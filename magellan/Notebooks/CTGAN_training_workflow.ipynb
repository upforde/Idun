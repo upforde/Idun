{
 "cells": [
  {
   "cell_type": "code",
   "execution_count": null,
   "metadata": {},
   "outputs": [],
   "source": [
    "import py_entitymatching as em\n",
    "import pandas as pd\n",
    "import os\n",
    "from sdv.tabular import CTGAN\n",
    "from IPython.display import display, HTML\n",
    "from utils.utils import *\n",
    "\n",
    "pd.options.mode.chained_assignment = None  # default='warn''"
   ]
  },
  {
   "cell_type": "markdown",
   "metadata": {},
   "source": [
    "<h3>0. Prelude.</h3>\n",
    "This Notebook takes care of the CTGAN traning pipeline. <br>\n",
    "It takes into consideration if the data format is either DITTO or Magellan. <br>\n",
    "Thereafter it seperates the data on the matched value to determine what type of data its traning on. <br>"
   ]
  },
  {
   "cell_type": "code",
   "execution_count": null,
   "metadata": {},
   "outputs": [],
   "source": [
    "# If the data is in DITTO format or not.\n",
    "ditto_format = True\n",
    "\n",
    "# Data table directory and name.\n",
    "datasets_dir = r'C:\\Users\\aleks\\Desktop\\Master Thesis\\Idun\\CTGAN\\Datasets\\er_magellan\\Dirty\\DBLP-ACM'\n",
    "name_of_table = \"test.txt\"\n",
    "\n",
    "# Model training parameters.\n",
    "epochs = 1000\n",
    "batch_total = 1000\n",
    "\n",
    "# Model directory and name to be saved. \n",
    "model_dir = r'C:\\Users\\aleks\\Desktop\\Master Thesis\\Py_Magellan\\Models'\n",
    "model_name = \"Placeholder.pkl\"\n",
    "\n",
    "# If the model should trained on \"matched\" or \"non-matched\" examples.\n",
    "train_on_matched = True"
   ]
  },
  {
   "cell_type": "markdown",
   "metadata": {},
   "source": [
    "<h3>1. Load dataset for traning.</h3>"
   ]
  },
  {
   "cell_type": "code",
   "execution_count": null,
   "metadata": {},
   "outputs": [],
   "source": [
    "if ditto_format:\n",
    "    ditto_data_path = datasets_dir + os.sep + name_of_table\n",
    "    \n",
    "    with open(ditto_data_path, 'r', encoding='utf-8') as file:\n",
    "        data = file.read()\n",
    "\n",
    "    table_A, table_B, truth_table = ditto_reformater(data)\n",
    "    \n",
    "    # Conjoin tables together with Truth\n",
    "    table_A = table_A.add_prefix(\"ltable_\")\n",
    "    table_B = table_B.add_prefix(\"rtable_\")\n",
    "    table = pd.concat([table_A, table_B, truth_table], axis=1)\n",
    "\n",
    "else:\n",
    "    print(\"Please perform the Magellan Sampling pipeline before proceeding.\") \n",
    "    magellan_data_path = datasets_dir + os.sep + name_of_table\n",
    "    table = pd.read_csv(magellan_data_path)\n"
   ]
  },
  {
   "cell_type": "markdown",
   "metadata": {},
   "source": [
    "<h4>2. Train model on data.</h4>\n",
    "We train our CTGAN model on the loaded table with the given parameters \"epochs\" and \"batch_total\". <br>\n",
    "We keep only \"matched\" or \"unmatched\" data, as we seperate the classifications before feeding it to our model. <br>\n",
    "The table needs an \"_id\" column as index. <br>"
   ]
  },
  {
   "cell_type": "code",
   "execution_count": null,
   "metadata": {},
   "outputs": [],
   "source": [
    "if train_on_matched:\n",
    "    table_for_training = table[table['Truth'] > 0]\n",
    "else:\n",
    "    table_for_training = table[table['Truth'] < 1]\n",
    "\n",
    "model = CTGAN(primary_key='_id', epochs=epochs, batch_size=batch_total)\n",
    "model.fit(table_for_training)\n",
    "model_save_path = model_dir + os.sep + model_name\n",
    "model.save(model_save_path)\n"
   ]
  }
 ],
 "metadata": {
  "interpreter": {
   "hash": "2058fc30687b0128d95a989c948081aa14c6a2edcd16aff3f04d2286aad1f775"
  },
  "kernelspec": {
   "display_name": "Python 3.8.6 64-bit",
   "language": "python",
   "name": "python3"
  },
  "language_info": {
   "codemirror_mode": {
    "name": "ipython",
    "version": 3
   },
   "file_extension": ".py",
   "mimetype": "text/x-python",
   "name": "python",
   "nbconvert_exporter": "python",
   "pygments_lexer": "ipython3",
   "version": "3.8.6"
  },
  "orig_nbformat": 4
 },
 "nbformat": 4,
 "nbformat_minor": 2
}
